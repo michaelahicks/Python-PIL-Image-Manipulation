{
 "cells": [
  {
   "cell_type": "code",
   "execution_count": 4,
   "id": "db6c8205",
   "metadata": {},
   "outputs": [],
   "source": [
    "import PIL"
   ]
  },
  {
   "cell_type": "code",
   "execution_count": 6,
   "id": "57a67f44",
   "metadata": {},
   "outputs": [],
   "source": [
    "import pytesseract  # do not use the format 'from PIL import pytesseract'"
   ]
  },
  {
   "cell_type": "code",
   "execution_count": 7,
   "id": "9cec6321",
   "metadata": {},
   "outputs": [
    {
     "data": {
      "text/plain": [
       "['ALTONotSupported',\n",
       " 'Output',\n",
       " 'TSVNotSupported',\n",
       " 'TesseractError',\n",
       " 'TesseractNotFoundError',\n",
       " '__builtins__',\n",
       " '__cached__',\n",
       " '__doc__',\n",
       " '__file__',\n",
       " '__loader__',\n",
       " '__name__',\n",
       " '__package__',\n",
       " '__path__',\n",
       " '__spec__',\n",
       " '__version__',\n",
       " 'get_languages',\n",
       " 'get_tesseract_version',\n",
       " 'image_to_alto_xml',\n",
       " 'image_to_boxes',\n",
       " 'image_to_data',\n",
       " 'image_to_osd',\n",
       " 'image_to_pdf_or_hocr',\n",
       " 'image_to_string',\n",
       " 'pytesseract',\n",
       " 'run_and_get_output']"
      ]
     },
     "execution_count": 7,
     "metadata": {},
     "output_type": "execute_result"
    }
   ],
   "source": [
    "dir(pytesseract)"
   ]
  },
  {
   "cell_type": "code",
   "execution_count": 8,
   "id": "1cabeadd",
   "metadata": {},
   "outputs": [
    {
     "name": "stdout",
     "output_type": "stream",
     "text": [
      "def image_to_string(\n",
      "    image,\n",
      "    lang=None,\n",
      "    config='',\n",
      "    nice=0,\n",
      "    output_type=Output.STRING,\n",
      "    timeout=0,\n",
      "):\n",
      "    \"\"\"\n",
      "    Returns the result of a Tesseract OCR run on the provided image to string\n",
      "    \"\"\"\n",
      "    args = [image, 'txt', lang, config, nice, timeout]\n",
      "\n",
      "    return {\n",
      "        Output.BYTES: lambda: run_and_get_output(*(args + [True])),\n",
      "        Output.DICT: lambda: {'text': run_and_get_output(*args)},\n",
      "        Output.STRING: lambda: run_and_get_output(*args),\n",
      "    }[output_type]()\n",
      "\n"
     ]
    }
   ],
   "source": [
    "import inspect\n",
    "src = inspect.getsource(pytesseract.image_to_string)\n",
    "print(src)"
   ]
  },
  {
   "cell_type": "code",
   "execution_count": 10,
   "id": "40fc7b33",
   "metadata": {},
   "outputs": [],
   "source": [
    "# There's actually another way in jupyter, and that's to append *two* question marks to the end of\n",
    "# a given function or module. Other editors have similar features, and is a great reason to use a \n",
    "# software development environment\n",
    "pytesseract.image_to_string??"
   ]
  },
  {
   "cell_type": "code",
   "execution_count": 11,
   "id": "28d4dd25",
   "metadata": {},
   "outputs": [
    {
     "data": {
      "text/plain": [
       "' text = pytesseract.image_to_string(image)\\nprint(text) '"
      ]
     },
     "execution_count": 11,
     "metadata": {},
     "output_type": "execute_result"
    }
   ],
   "source": [
    "''' text = pytesseract.image_to_string(image)\n",
    "print(text) ''' # basic image text to string text"
   ]
  },
  {
   "cell_type": "code",
   "execution_count": 14,
   "id": "37561917",
   "metadata": {},
   "outputs": [],
   "source": [
    "import kraken"
   ]
  },
  {
   "cell_type": "code",
   "execution_count": 15,
   "id": "f3d71096",
   "metadata": {},
   "outputs": [
    {
     "name": "stdout",
     "output_type": "stream",
     "text": [
      "Help on package kraken:\n",
      "\n",
      "NAME\n",
      "    kraken - entry point for kraken functionality\n",
      "\n",
      "PACKAGE CONTENTS\n",
      "    align\n",
      "    binarization\n",
      "    blla\n",
      "    ketos (package)\n",
      "    kraken\n",
      "    lib (package)\n",
      "    linegen\n",
      "    pageseg\n",
      "    repo\n",
      "    rpred\n",
      "    serialization\n",
      "    transcribe\n",
      "\n",
      "FILE\n",
      "    /home/bigboss/anaconda3/lib/python3.9/site-packages/kraken/__init__.py\n",
      "\n",
      "\n"
     ]
    }
   ],
   "source": [
    "help(kraken)"
   ]
  },
  {
   "cell_type": "code",
   "execution_count": 16,
   "id": "6b162431",
   "metadata": {},
   "outputs": [
    {
     "name": "stdout",
     "output_type": "stream",
     "text": [
      "Help on module kraken.pageseg in kraken:\n",
      "\n",
      "NAME\n",
      "    kraken.pageseg\n",
      "\n",
      "DESCRIPTION\n",
      "    kraken.pageseg\n",
      "    ~~~~~~~~~~~~~~\n",
      "    \n",
      "    Layout analysis methods.\n",
      "\n",
      "FUNCTIONS\n",
      "    segment(im, text_direction: str = 'horizontal-lr', scale: Optional[float] = None, maxcolseps: float = 2, black_colseps: bool = False, no_hlines: bool = True, pad: Union[int, Tuple[int, int]] = 0, mask: Optional[numpy.ndarray] = None, reading_order_fn: Callable = <function reading_order at 0x7f0442151a60>) -> Dict[str, Any]\n",
      "        Segments a page into text lines.\n",
      "        \n",
      "        Segments a page into text lines and returns the absolute coordinates of\n",
      "        each line in reading order.\n",
      "        \n",
      "        Args:\n",
      "            im: A bi-level page of mode '1' or 'L'\n",
      "            text_direction: Principal direction of the text\n",
      "                            (horizontal-lr/rl/vertical-lr/rl)\n",
      "            scale: Scale of the image. Will be auto-determined if set to `None`.\n",
      "            maxcolseps: Maximum number of whitespace column separators\n",
      "            black_colseps: Whether column separators are assumed to be vertical\n",
      "                           black lines or not\n",
      "            no_hlines: Switch for small horizontal line removal.\n",
      "            pad: Padding to add to line bounding boxes. If int the same padding is\n",
      "                 used both left and right. If a 2-tuple, uses (padding_left,\n",
      "                 padding_right).\n",
      "            mask: A bi-level mask image of the same size as `im` where 0-valued\n",
      "                  regions are ignored for segmentation purposes. Disables column\n",
      "                  detection.\n",
      "            reading_order_fn: Function to call to order line output. Callable\n",
      "                              accepting a list of slices (y, x) and a text\n",
      "                              direction in (`rl`, `lr`).\n",
      "        \n",
      "        Returns:\n",
      "            A dictionary containing the text direction and a list of reading order\n",
      "            sorted bounding boxes under the key 'boxes':\n",
      "        \n",
      "            .. code-block::\n",
      "        \n",
      "                {'text_direction': '$dir', 'boxes': [(x1, y1, x2, y2),...]}\n",
      "        \n",
      "        Raises:\n",
      "            KrakenInputException: if the input image is not binarized or the text\n",
      "                                  direction is invalid.\n",
      "\n",
      "DATA\n",
      "    __all__ = ['segment']\n",
      "\n",
      "FILE\n",
      "    /home/bigboss/anaconda3/lib/python3.9/site-packages/kraken/pageseg.py\n",
      "\n",
      "\n"
     ]
    }
   ],
   "source": [
    "from kraken import pageseg\n",
    "help(pageseg)"
   ]
  },
  {
   "cell_type": "code",
   "execution_count": 18,
   "id": "47b35f99",
   "metadata": {},
   "outputs": [],
   "source": [
    "import cv2"
   ]
  },
  {
   "cell_type": "code",
   "execution_count": null,
   "id": "75329a71",
   "metadata": {},
   "outputs": [],
   "source": []
  }
 ],
 "metadata": {
  "kernelspec": {
   "display_name": "Python 3 (ipykernel)",
   "language": "python",
   "name": "python3"
  },
  "language_info": {
   "codemirror_mode": {
    "name": "ipython",
    "version": 3
   },
   "file_extension": ".py",
   "mimetype": "text/x-python",
   "name": "python",
   "nbconvert_exporter": "python",
   "pygments_lexer": "ipython3",
   "version": "3.9.12"
  }
 },
 "nbformat": 4,
 "nbformat_minor": 5
}
