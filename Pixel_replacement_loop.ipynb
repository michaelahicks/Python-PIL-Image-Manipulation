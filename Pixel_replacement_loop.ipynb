{
 "cells": [
  {
   "cell_type": "code",
   "execution_count": null,
   "id": "8ee323f8",
   "metadata": {},
   "outputs": [],
   "source": [
    "import PIL\n",
    "import numpy as np\n",
    "from PIL import Image\n",
    "from IPython.display import display\n",
    "from PIL import ImageDraw\n",
    "from PIL import ImageFont, ImageOps"
   ]
  },
  {
   "cell_type": "code",
   "execution_count": null,
   "id": "efd4446a",
   "metadata": {},
   "outputs": [],
   "source": [
    "file = \"/home/bigboss/Documents/chris_-pantocrator.jpg\"\n",
    "img = Image.open(file).convert(\"RGB\")"
   ]
  },
  {
   "cell_type": "code",
   "execution_count": null,
   "id": "ddd6b364",
   "metadata": {},
   "outputs": [],
   "source": [
    "print(img.mode)\n",
    "print(img.size)"
   ]
  },
  {
   "cell_type": "code",
   "execution_count": null,
   "id": "ce04f1ba",
   "metadata": {},
   "outputs": [],
   "source": [
    "width = img.size[0]\n",
    "height = img.size[1]\n",
    "border = (0, 0, 0, 100)\n",
    "img = ImageOps.expand(img, border = border)"
   ]
  },
  {
   "cell_type": "code",
   "execution_count": null,
   "id": "aab39133",
   "metadata": {},
   "outputs": [],
   "source": [
    "images = []\n",
    "r1_img = img.copy()\n",
    "r2_img = img.copy()\n",
    "r3_img = img.copy()\n",
    "g1_img = img.copy()\n",
    "g2_img = img.copy()\n",
    "g3_img = img.copy()\n",
    "b1_img = img.copy()\n",
    "b2_img = img.copy()\n",
    "b3_img = img.copy()"
   ]
  },
  {
   "cell_type": "code",
   "execution_count": null,
   "id": "7b0a98af",
   "metadata": {},
   "outputs": [],
   "source": [
    "for i in range(0, width):\n",
    "    for j in range(0, height):\n",
    "        data = r1_img.getpixel((i, j))\n",
    "        r1 = data[0]*0.1\n",
    "        r1 = int(r1)\n",
    "        r1_img.putpixel((i,j), (r1, data[1], data[2]))\n",
    "images.append(r1_img)"
   ]
  },
  {
   "cell_type": "code",
   "execution_count": null,
   "id": "659e44e4",
   "metadata": {},
   "outputs": [],
   "source": [
    "for i in range(0, width):\n",
    "    for j in range(0, height):\n",
    "        data = r2_img.getpixel((i, j))\n",
    "        r2 = data[0]*0.5\n",
    "        r2 = int(r2)\n",
    "        r2_img.putpixel((i,j), (r2, data[1], data[2]))\n",
    "images.append(r2_img)"
   ]
  },
  {
   "cell_type": "code",
   "execution_count": null,
   "id": "e4b6ee04",
   "metadata": {},
   "outputs": [],
   "source": [
    "for i in range(0, width):\n",
    "    for j in range(0, height):\n",
    "        data = r3_img.getpixel((i, j))\n",
    "        r3 = data[0]*0.9\n",
    "        r3 = int(r3)\n",
    "        r3_img.putpixel((i,j), (r3, data[1], data[2]))\n",
    "images.append(r3_img)"
   ]
  },
  {
   "cell_type": "code",
   "execution_count": null,
   "id": "e1b8e3d0",
   "metadata": {},
   "outputs": [],
   "source": [
    "for i in range(0, width):\n",
    "    for j in range(0, height):\n",
    "        data = g1_img.getpixel((i, j))\n",
    "        g1 = data[1]*0.1\n",
    "        g1 = int(g1)\n",
    "        g1_img.putpixel((i,j), (data[0], g1, data[2]))\n",
    "images.append(g1_img)"
   ]
  },
  {
   "cell_type": "code",
   "execution_count": null,
   "id": "f788b37f",
   "metadata": {},
   "outputs": [],
   "source": [
    "for i in range(0, width):\n",
    "    for j in range(0, height):\n",
    "        data = g2_img.getpixel((i, j))\n",
    "        g2 = data[1]*0.5\n",
    "        g2 = int(g2)\n",
    "        g2_img.putpixel((i,j), (data[0], g2, data[2]))\n",
    "images.append(g2_img)"
   ]
  },
  {
   "cell_type": "code",
   "execution_count": null,
   "id": "41da15d3",
   "metadata": {},
   "outputs": [],
   "source": [
    "for i in range(0, width):\n",
    "    for j in range(0, height):\n",
    "        data = g3_img.getpixel((i, j))\n",
    "        g3 = data[1]*0.9\n",
    "        g3 = int(g3)\n",
    "        g3_img.putpixel((i,j), (data[0], g3, data[2]))\n",
    "images.append(g3_img)"
   ]
  },
  {
   "cell_type": "code",
   "execution_count": null,
   "id": "f34feba6",
   "metadata": {},
   "outputs": [],
   "source": [
    "for i in range(0, width):\n",
    "    for j in range(0, height):\n",
    "        data = b1_img.getpixel((i, j))\n",
    "        b1 = data[2]*0.1\n",
    "        b1 = int(b1)\n",
    "        b1_img.putpixel((i,j), (data[0], data[1], b1))\n",
    "images.append(b1_img)"
   ]
  },
  {
   "cell_type": "code",
   "execution_count": null,
   "id": "61edf89b",
   "metadata": {},
   "outputs": [],
   "source": [
    "for i in range(0, width):\n",
    "    for j in range(0, height):\n",
    "        data = b2_img.getpixel((i, j))\n",
    "        b2 = data[2]*0.5\n",
    "        b2 = int(b2)\n",
    "        b2_img.putpixel((i,j), (data[0], data[1], b2))\n",
    "images.append(b2_img)"
   ]
  },
  {
   "cell_type": "code",
   "execution_count": null,
   "id": "7b2fb99c",
   "metadata": {},
   "outputs": [],
   "source": [
    "for i in range(0, width):\n",
    "    for j in range(0, height):\n",
    "        data = b3_img.getpixel((i, j))\n",
    "        b3 = data[2]*0.9\n",
    "        b3 = int(b3)\n",
    "        b3_img.putpixel((i,j), (data[0], data[1], b3))\n",
    "images.append(b3_img)"
   ]
  },
  {
   "cell_type": "code",
   "execution_count": null,
   "id": "a3126a7f",
   "metadata": {},
   "outputs": [],
   "source": [
    "#img.show()"
   ]
  },
  {
   "cell_type": "code",
   "execution_count": null,
   "id": "363d758e",
   "metadata": {},
   "outputs": [],
   "source": [
    "#display(images[0])\n",
    "print(type(images[0]))\n",
    "print(len(images))"
   ]
  },
  {
   "cell_type": "code",
   "execution_count": null,
   "id": "50555a88",
   "metadata": {},
   "outputs": [],
   "source": [
    "for x in range(9):\n",
    "    display(images[x])"
   ]
  },
  {
   "cell_type": "code",
   "execution_count": null,
   "id": "6059f744",
   "metadata": {
    "scrolled": true
   },
   "outputs": [],
   "source": [
    "for x in range(9):\n",
    "    with images[x].convert(\"RGBA\") as base:\n",
    "        txt = Image.new('RGBA', img.size, (200, 100, 50, 1))\n",
    "        fnt =ImageFont.truetype(\"Pillow/Tests/fonts/FreeMono.ttf\", 150)\n",
    "        d = ImageDraw.Draw(txt)\n",
    "        d.text((300,1950), \"Christ is King!\", font = fnt, fill = (255, 255, 255, 255))\n",
    "        out = Image.alpha_composite(base, txt)\n",
    "        display(out)"
   ]
  },
  {
   "cell_type": "code",
   "execution_count": null,
   "id": "ade9234f",
   "metadata": {},
   "outputs": [],
   "source": [
    "#out = Image.alpha_composite(base, txt)"
   ]
  },
  {
   "cell_type": "code",
   "execution_count": null,
   "id": "5db43503",
   "metadata": {},
   "outputs": [],
   "source": [
    "#display(out)"
   ]
  },
  {
   "cell_type": "code",
   "execution_count": null,
   "id": "d03e578b",
   "metadata": {},
   "outputs": [],
   "source": [
    "text_strings = []"
   ]
  },
  {
   "cell_type": "code",
   "execution_count": null,
   "id": "ddd97c0d",
   "metadata": {},
   "outputs": [],
   "source": [
    "for x in range(3):\n",
    "    if x == 0:\n",
    "        channel = 0\n",
    "    elif x == 1:\n",
    "        channel = 1\n",
    "    else:\n",
    "        channel = 2\n",
    "    print(channel)\n",
    "    for y in range(3):\n",
    "        print(\"*\"*10)\n",
    "        print(y)\n",
    "        if y == 0:\n",
    "            intensity = 0.1\n",
    "        elif y == 1:\n",
    "            intensity = 0.5\n",
    "        else:\n",
    "            intensity = 0.9        \n",
    "        outstring = (\"channel {} intensity {}\".format(channel, intensity))\n",
    "        text_strings.append(outstring)"
   ]
  },
  {
   "cell_type": "code",
   "execution_count": null,
   "id": "8a1c11d1",
   "metadata": {},
   "outputs": [],
   "source": [
    "print(text_strings)"
   ]
  },
  {
   "cell_type": "code",
   "execution_count": null,
   "id": "237e8dd5",
   "metadata": {},
   "outputs": [],
   "source": [
    "for x in range(9):\n",
    "    with images[x].convert(\"RGBA\") as base:\n",
    "        txt = Image.new('RGBA', img.size, (200, 100, 50, 1))\n",
    "        fnt =ImageFont.truetype(\"Pillow/Tests/fonts/FreeMono.ttf\", 100)\n",
    "        d = ImageDraw.Draw(txt)\n",
    "        d.text((300,300), text_strings[x], font = fnt, fill = (1, 1, 1, 255))\n",
    "        out = Image.alpha_composite(base, txt)\n",
    "        display(out)"
   ]
  },
  {
   "cell_type": "code",
   "execution_count": null,
   "id": "555e78f4",
   "metadata": {},
   "outputs": [],
   "source": [
    "text_box = (800, 50)"
   ]
  },
  {
   "cell_type": "code",
   "execution_count": null,
   "id": "5a55bade",
   "metadata": {},
   "outputs": [],
   "source": [
    "txt = Image.new('RGBA', (500, 100), (1, 1, 1, 255))\n",
    "#fnt =ImageFont.truetype(\"Pillow/Tests/fonts/FreeMono.ttf\", 100)\n",
    "#d = ImageDraw.Draw(txt)\n",
    "#d.text((300,300), text_strings[x], font = fnt, fill = (1, 1, 1, 255))\n",
    "#out = Image.alpha_composite(base, txt)\n",
    "display(txt)"
   ]
  },
  {
   "cell_type": "code",
   "execution_count": null,
   "id": "5544dfb0",
   "metadata": {},
   "outputs": [],
   "source": []
  }
 ],
 "metadata": {
  "kernelspec": {
   "display_name": "Python 3 (ipykernel)",
   "language": "python",
   "name": "python3"
  },
  "language_info": {
   "codemirror_mode": {
    "name": "ipython",
    "version": 3
   },
   "file_extension": ".py",
   "mimetype": "text/x-python",
   "name": "python",
   "nbconvert_exporter": "python",
   "pygments_lexer": "ipython3",
   "version": "3.9.12"
  }
 },
 "nbformat": 4,
 "nbformat_minor": 5
}
