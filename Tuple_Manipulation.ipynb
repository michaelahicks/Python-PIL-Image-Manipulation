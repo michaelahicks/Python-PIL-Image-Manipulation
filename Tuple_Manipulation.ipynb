{
 "cells": [
  {
   "cell_type": "code",
   "execution_count": null,
   "id": "cf2276a8",
   "metadata": {},
   "outputs": [],
   "source": [
    "color_one = (250, 125, 205) # tuple assignment"
   ]
  },
  {
   "cell_type": "code",
   "execution_count": null,
   "id": "63180159",
   "metadata": {},
   "outputs": [],
   "source": [
    "print(type(color_one))"
   ]
  },
  {
   "cell_type": "code",
   "execution_count": null,
   "id": "fa70922b",
   "metadata": {},
   "outputs": [],
   "source": [
    "r, g, b = color_one # unpack the tuple"
   ]
  },
  {
   "cell_type": "code",
   "execution_count": null,
   "id": "05a1a286",
   "metadata": {},
   "outputs": [],
   "source": [
    "print(type(r))"
   ]
  },
  {
   "cell_type": "code",
   "execution_count": null,
   "id": "993eb6f4",
   "metadata": {},
   "outputs": [],
   "source": [
    "print(r)"
   ]
  },
  {
   "cell_type": "code",
   "execution_count": null,
   "id": "303bc303",
   "metadata": {},
   "outputs": [],
   "source": [
    "print(r)\n",
    "r_one = r*(0.1)\n",
    "print(r_one)"
   ]
  },
  {
   "cell_type": "code",
   "execution_count": null,
   "id": "9d1b64d1",
   "metadata": {},
   "outputs": [],
   "source": [
    "x = 250*0.1\n",
    "print(x)"
   ]
  },
  {
   "cell_type": "code",
   "execution_count": null,
   "id": "ed822d5a",
   "metadata": {},
   "outputs": [],
   "source": [
    "print(g)"
   ]
  },
  {
   "cell_type": "code",
   "execution_count": null,
   "id": "ff5696b2",
   "metadata": {},
   "outputs": [],
   "source": [
    "print(b)"
   ]
  },
  {
   "cell_type": "code",
   "execution_count": null,
   "id": "3221da6b",
   "metadata": {},
   "outputs": [],
   "source": [
    "for x in range(3):\n",
    "    if x == 0:\n",
    "        r1 = r * 0.1\n",
    "        r1 = int(r1)  # rgb has to be converted to integer\n",
    "        tup_r1 = (r1, g, b)  # new tup assignment\n",
    "        print(tup_r1)\n",
    "        print(type(tup_r1))\n",
    "    elif x == 1:\n",
    "        r2 = r * 0.5\n",
    "        r2 = int(r2)\n",
    "        tup_r2 = (r2, g, b)\n",
    "        print(tup_r2)\n",
    "    else:\n",
    "        r3 = r * 0.9\n",
    "        r3 = int(r3)\n",
    "        tup_r3 = (r3, g, b)\n",
    "        print(tup_r3)\n",
    "    \n"
   ]
  },
  {
   "cell_type": "code",
   "execution_count": null,
   "id": "487acd8c",
   "metadata": {},
   "outputs": [],
   "source": [
    "for x in range(3):\n",
    "    if x == 0:\n",
    "        g1 = g * 0.1\n",
    "        g1 = int(g1)\n",
    "        tup_g1 = (r, g1, b)\n",
    "        print(tup_g1)\n",
    "    elif x == 1:\n",
    "        g2 = g * 0.5\n",
    "        g2 = int(g2)\n",
    "        tup_g2 = (r, g2, b)\n",
    "        print(tup_g2)\n",
    "    else:\n",
    "        g3 = g * 0.9\n",
    "        g3 = int(g3)\n",
    "        tup_g3 = (r, g3, b)\n",
    "        print(tup_g3)"
   ]
  },
  {
   "cell_type": "code",
   "execution_count": null,
   "id": "aee29ae0",
   "metadata": {},
   "outputs": [],
   "source": [
    "for x in range(3):\n",
    "    if x == 0:\n",
    "        b1 = b * 0.1\n",
    "        b1 = int(b1)\n",
    "        tup_b1 = (r, g, b1)\n",
    "        print(tup_b1)\n",
    "    elif x == 1:\n",
    "        b2 = b * 0.5\n",
    "        b2 = int(b2)\n",
    "        tup_b2 = (r, g, b2)\n",
    "        print(tup_b2)\n",
    "    else:\n",
    "        b3 = b * 0.9\n",
    "        b3 = int(b3)\n",
    "        tup_b3 = (r, g, b3)\n",
    "        print(tup_b3)"
   ]
  },
  {
   "cell_type": "code",
   "execution_count": null,
   "id": "3a1c7bbb",
   "metadata": {},
   "outputs": [],
   "source": [
    "import PIL"
   ]
  },
  {
   "cell_type": "code",
   "execution_count": null,
   "id": "65525b54",
   "metadata": {},
   "outputs": [],
   "source": [
    "from PIL import Image, ImageOps"
   ]
  },
  {
   "cell_type": "code",
   "execution_count": null,
   "id": "86425d11",
   "metadata": {},
   "outputs": [],
   "source": [
    "file = \"/home/bigboss/Documents/chris_-pantocrator.jpg\""
   ]
  },
  {
   "cell_type": "code",
   "execution_count": null,
   "id": "ae240908",
   "metadata": {},
   "outputs": [],
   "source": [
    "img = Image.open(file)"
   ]
  },
  {
   "cell_type": "code",
   "execution_count": null,
   "id": "986be159",
   "metadata": {},
   "outputs": [],
   "source": [
    "img = img.convert(\"RGB\")"
   ]
  },
  {
   "cell_type": "code",
   "execution_count": null,
   "id": "7a3e05e3",
   "metadata": {},
   "outputs": [],
   "source": [
    "border = (0, 0, 0, 100)  #left, top, right, bottom\n",
    "img = ImageOps.expand(img, border = border)"
   ]
  },
  {
   "cell_type": "code",
   "execution_count": null,
   "id": "c304b518",
   "metadata": {},
   "outputs": [],
   "source": [
    "datas = img.getdata()"
   ]
  },
  {
   "cell_type": "code",
   "execution_count": null,
   "id": "8b2215a1",
   "metadata": {},
   "outputs": [],
   "source": [
    "#contacts = {}\n",
    "border = (0, 0, 0, 100)  #left, top, right, bottom"
   ]
  },
  {
   "cell_type": "code",
   "execution_count": null,
   "id": "60a50628",
   "metadata": {},
   "outputs": [],
   "source": [
    "new_image_data = []\n",
    "r1_tups = []\n",
    "r2_tups = []\n",
    "r3_tups = []"
   ]
  },
  {
   "cell_type": "code",
   "execution_count": null,
   "id": "a02a3f19",
   "metadata": {},
   "outputs": [],
   "source": [
    "for item in datas:\n",
    "    r, g, b = item\n",
    "    r1 = r*0.1\n",
    "    r1 = int(r1)\n",
    "    r1_tup = (r1, g, b)\n",
    "    r1_tups.append(r1_tup)\n",
    "new_image_data.append(r1_tups)\n",
    "   "
   ]
  },
  {
   "cell_type": "code",
   "execution_count": null,
   "id": "148d7456",
   "metadata": {},
   "outputs": [],
   "source": [
    "for item in datas:\n",
    "    r, g, b = item\n",
    "    r2 = r*0.5\n",
    "    r2 = int(r2)\n",
    "    r2_tup = (r2, g, b)\n",
    "    r2_tups.append(r2_tup)\n",
    "new_image_data.append(r2_tups)\n",
    "#contacts[r2] = new_image_data"
   ]
  },
  {
   "cell_type": "code",
   "execution_count": null,
   "id": "883a02b8",
   "metadata": {},
   "outputs": [],
   "source": [
    "for item in datas:\n",
    "    r, g, b = item\n",
    "    r3 = r*0.9\n",
    "    r3 = int(r3)\n",
    "    r3_tup = (r3, g, b)\n",
    "    r3_tups.append(r3_tup)\n",
    "new_image_data.append(r3_tups)"
   ]
  },
  {
   "cell_type": "code",
   "execution_count": null,
   "id": "b0ffa20c",
   "metadata": {},
   "outputs": [],
   "source": [
    "print(len(new_image_data))\n",
    "#print(contacts[r2][0:25])\n",
    "#print(new_image_data[0:10])\n",
    "#print(new_image_data)"
   ]
  },
  {
   "cell_type": "code",
   "execution_count": null,
   "id": "226b14fb",
   "metadata": {},
   "outputs": [],
   "source": [
    "#img.putdata(contacts[r2][0:25])\n",
    "# rl_contact = img\n",
    "img.putdata(new_image_data[0])"
   ]
  },
  {
   "cell_type": "code",
   "execution_count": null,
   "id": "63fe0406",
   "metadata": {},
   "outputs": [],
   "source": [
    "for x in range(3):\n",
    "    img.putdata(new_image_data[x])\n",
    "    #img.show(new_image_data[x])"
   ]
  },
  {
   "cell_type": "code",
   "execution_count": null,
   "id": "3076b6b1",
   "metadata": {},
   "outputs": [],
   "source": [
    "from PIL import Image\n",
    "from IPython.display import display"
   ]
  },
  {
   "cell_type": "code",
   "execution_count": null,
   "id": "904aced6",
   "metadata": {
    "scrolled": false
   },
   "outputs": [],
   "source": [
    "for x in range(3):\n",
    "    img.putdata(new_image_data[x])\n",
    "    display(img)"
   ]
  },
  {
   "cell_type": "code",
   "execution_count": null,
   "id": "787e533c",
   "metadata": {},
   "outputs": [],
   "source": [
    "img.putdata(new_image_data[0])\n",
    "new_image = ImageOps.expand(img, border = border)\n",
    "display(new_image)"
   ]
  },
  {
   "cell_type": "code",
   "execution_count": null,
   "id": "835c1d77",
   "metadata": {},
   "outputs": [],
   "source": []
  }
 ],
 "metadata": {
  "kernelspec": {
   "display_name": "Python 3 (ipykernel)",
   "language": "python",
   "name": "python3"
  },
  "language_info": {
   "codemirror_mode": {
    "name": "ipython",
    "version": 3
   },
   "file_extension": ".py",
   "mimetype": "text/x-python",
   "name": "python",
   "nbconvert_exporter": "python",
   "pygments_lexer": "ipython3",
   "version": "3.9.12"
  }
 },
 "nbformat": 4,
 "nbformat_minor": 5
}
