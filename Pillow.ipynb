{
 "cells": [
  {
   "cell_type": "markdown",
   "id": "275ea776",
   "metadata": {},
   "source": [
    "# The Python Imaging Library (PIL)"
   ]
  },
  {
   "cell_type": "markdown",
   "id": "2c49d57c",
   "metadata": {},
   "source": [
    "The Python Imaging Library, which is known as PIL or PILLOW, is the main library we use in python for dealing with image files. This library is not included with python - it's what's known as a third party library, which means you have to download and install it yourself. In the Coursera system, this has all been done for you. Lets do a little exploring of pillow in the jupyter notebooks."
   ]
  },
  {
   "cell_type": "code",
   "execution_count": null,
   "id": "c7332679",
   "metadata": {},
   "outputs": [],
   "source": [
    "import PIL"
   ]
  },
  {
   "cell_type": "code",
   "execution_count": null,
   "id": "faf8a588",
   "metadata": {},
   "outputs": [],
   "source": [
    "PIL.__version__"
   ]
  },
  {
   "cell_type": "code",
   "execution_count": null,
   "id": "e7e5e82b",
   "metadata": {},
   "outputs": [],
   "source": [
    "help(PIL)"
   ]
  },
  {
   "cell_type": "code",
   "execution_count": null,
   "id": "f120e8b9",
   "metadata": {},
   "outputs": [],
   "source": [
    "dir(PIL)"
   ]
  },
  {
   "cell_type": "code",
   "execution_count": null,
   "id": "0c972b8c",
   "metadata": {},
   "outputs": [],
   "source": [
    "from PIL import Image\n",
    "help(Image)"
   ]
  },
  {
   "cell_type": "markdown",
   "id": "266e8698",
   "metadata": {},
   "source": [
    "Running help() on Image tells us that this object is \"the Image class wrapper\". We see from the top level documentation about the image object that there is \"hardly ever any reason to call the Image constructor directly\", and they suggest that the open function might be the way to go."
   ]
  },
  {
   "cell_type": "code",
   "execution_count": null,
   "id": "4ebe48ee",
   "metadata": {},
   "outputs": [],
   "source": [
    "help(Image.open)"
   ]
  },
  {
   "cell_type": "code",
   "execution_count": null,
   "id": "e8b54e3d",
   "metadata": {},
   "outputs": [],
   "source": [
    "file = \"/home/bigboss/Documents/chris_-pantocrator.jpg\"\n",
    "image = Image.open(file)\n",
    "print(image)"
   ]
  },
  {
   "cell_type": "code",
   "execution_count": null,
   "id": "ca56ae01",
   "metadata": {},
   "outputs": [],
   "source": [
    "import inspect"
   ]
  },
  {
   "cell_type": "code",
   "execution_count": null,
   "id": "0ca353ad",
   "metadata": {},
   "outputs": [],
   "source": [
    "print(\"The type of image is \" + str(type(image)))\n",
    "inspect.getmro(type(image))"
   ]
  },
  {
   "cell_type": "code",
   "execution_count": null,
   "id": "ae3b4450",
   "metadata": {},
   "outputs": [],
   "source": [
    "image.show()"
   ]
  },
  {
   "cell_type": "code",
   "execution_count": null,
   "id": "525eb6a4",
   "metadata": {},
   "outputs": [],
   "source": [
    "from IPython.display import display\n",
    "display(image)"
   ]
  },
  {
   "cell_type": "markdown",
   "id": "742bbf16",
   "metadata": {},
   "source": [
    "For those who would like to understand this in more detail, the Jupyter environment is running a special wrapper around the Python interpretor, called IPython. IPython allows the kernel back end to communicate with a browser front end, among other things. The IPython package has a display function which can take objects and use custom formatters in order to render them. A number of formatters are provided by default, including one which knows how to handle image types."
   ]
  },
  {
   "cell_type": "markdown",
   "id": "17c4d027",
   "metadata": {},
   "source": [
    "That's a quick overview of how to read and display images using pillow, in the next lecture we'll jump in a bit more detail to understand how to use pillow to manipulate images."
   ]
  },
  {
   "cell_type": "markdown",
   "id": "6802eaa6",
   "metadata": {},
   "source": [
    "<h3>Common Functions in the Python Imaging Library</h3>"
   ]
  },
  {
   "cell_type": "markdown",
   "id": "27050e7b",
   "metadata": {},
   "source": [
    "Lets take a look at some of the common tasks we can do in python using the pillow library."
   ]
  },
  {
   "cell_type": "code",
   "execution_count": null,
   "id": "09538c53",
   "metadata": {},
   "outputs": [],
   "source": [
    "import PIL"
   ]
  },
  {
   "cell_type": "code",
   "execution_count": null,
   "id": "0dc4b10f",
   "metadata": {},
   "outputs": [],
   "source": [
    "from PIL import Image"
   ]
  },
  {
   "cell_type": "code",
   "execution_count": null,
   "id": "35d9907b",
   "metadata": {},
   "outputs": [],
   "source": [
    "from IPython.display import display"
   ]
  },
  {
   "cell_type": "code",
   "execution_count": null,
   "id": "ec8f2e8c",
   "metadata": {},
   "outputs": [],
   "source": [
    "file = \"/home/bigboss/Documents/chris_-pantocrator.jpg\""
   ]
  },
  {
   "cell_type": "code",
   "execution_count": null,
   "id": "1b81f0fe",
   "metadata": {},
   "outputs": [],
   "source": [
    "image = Image.open(file)"
   ]
  },
  {
   "cell_type": "code",
   "execution_count": null,
   "id": "e7cd87ff",
   "metadata": {},
   "outputs": [],
   "source": [
    "help(image.copy)"
   ]
  },
  {
   "cell_type": "code",
   "execution_count": null,
   "id": "42a5f344",
   "metadata": {},
   "outputs": [],
   "source": [
    "help(image.save)"
   ]
  },
  {
   "cell_type": "code",
   "execution_count": null,
   "id": "7d31ee78",
   "metadata": {},
   "outputs": [],
   "source": [
    "image.save(\"/home/bigboss/Documents/chris_-pantocrator.png\")\n",
    "image = Image.open(\"/home/bigboss/Documents/chris_-pantocrator.png\")\n",
    "import inspect\n",
    "inspect.getmro(type(image))"
   ]
  },
  {
   "cell_type": "code",
   "execution_count": null,
   "id": "642b1b55",
   "metadata": {},
   "outputs": [],
   "source": [
    "from PIL import ImageFilter"
   ]
  },
  {
   "cell_type": "code",
   "execution_count": null,
   "id": "021fc498",
   "metadata": {},
   "outputs": [],
   "source": [
    "help(ImageFilter)"
   ]
  },
  {
   "cell_type": "code",
   "execution_count": null,
   "id": "3698b680",
   "metadata": {},
   "outputs": [],
   "source": [
    "image = image.convert('RGB')"
   ]
  },
  {
   "cell_type": "code",
   "execution_count": null,
   "id": "ad823c46",
   "metadata": {},
   "outputs": [],
   "source": [
    "blurred_image = image.filter(PIL.ImageFilter.BLUR)"
   ]
  },
  {
   "cell_type": "code",
   "execution_count": null,
   "id": "729d8373",
   "metadata": {},
   "outputs": [],
   "source": [
    "display(blurred_image)"
   ]
  },
  {
   "cell_type": "code",
   "execution_count": null,
   "id": "5c31075c",
   "metadata": {},
   "outputs": [],
   "source": [
    "print(\"{}x{}\".format(image.width, image.height))"
   ]
  },
  {
   "cell_type": "code",
   "execution_count": null,
   "id": "afd5e852",
   "metadata": {},
   "outputs": [],
   "source": [
    "help(image.crop)"
   ]
  },
  {
   "cell_type": "code",
   "execution_count": null,
   "id": "52edd2f8",
   "metadata": {},
   "outputs": [],
   "source": [
    "display(image.crop((750, 500, 1250, 1250)))"
   ]
  },
  {
   "cell_type": "code",
   "execution_count": null,
   "id": "a3434679",
   "metadata": {},
   "outputs": [],
   "source": [
    "from PIL import ImageDraw"
   ]
  },
  {
   "cell_type": "code",
   "execution_count": null,
   "id": "99710948",
   "metadata": {},
   "outputs": [],
   "source": [
    "drawing_object = ImageDraw.Draw(image)"
   ]
  },
  {
   "cell_type": "code",
   "execution_count": null,
   "id": "9cabe0c9",
   "metadata": {},
   "outputs": [],
   "source": [
    "drawing_object.rectangle((650,500,1250,1250), fill = None, outline = 'red')"
   ]
  },
  {
   "cell_type": "code",
   "execution_count": null,
   "id": "9f293377",
   "metadata": {},
   "outputs": [],
   "source": [
    "display(image)"
   ]
  },
  {
   "cell_type": "markdown",
   "id": "4f97d716",
   "metadata": {},
   "source": [
    "Ok, that's been an overview of how to use PIL for single images. But, a lot of work might involve multiple images, and putting images together. In the next lecture we'll tackle that, and set you up for the assignment."
   ]
  },
  {
   "cell_type": "markdown",
   "id": "74798356",
   "metadata": {},
   "source": [
    "<h3>Additional PILLOW functions</h3>"
   ]
  },
  {
   "cell_type": "markdown",
   "id": "8c5067fd",
   "metadata": {},
   "source": [
    "Lets take a look at some other functions we might want to use in PILLOW to modify images."
   ]
  },
  {
   "cell_type": "code",
   "execution_count": null,
   "id": "b6e77bcd",
   "metadata": {},
   "outputs": [],
   "source": [
    "import PIL"
   ]
  },
  {
   "cell_type": "code",
   "execution_count": null,
   "id": "2238b864",
   "metadata": {},
   "outputs": [],
   "source": [
    "from PIL import Image"
   ]
  },
  {
   "cell_type": "code",
   "execution_count": null,
   "id": "ba622f1e",
   "metadata": {},
   "outputs": [],
   "source": [
    "from IPython.display import display"
   ]
  },
  {
   "cell_type": "code",
   "execution_count": null,
   "id": "d6ffc214",
   "metadata": {},
   "outputs": [],
   "source": [
    "file = \"/home/bigboss/Documents/chris_-pantocrator.jpg\""
   ]
  },
  {
   "cell_type": "code",
   "execution_count": null,
   "id": "377bec0f",
   "metadata": {},
   "outputs": [],
   "source": [
    "image = Image.open(file).convert('RGB')"
   ]
  },
  {
   "cell_type": "code",
   "execution_count": null,
   "id": "e61d4057",
   "metadata": {},
   "outputs": [],
   "source": [
    "display(image)"
   ]
  },
  {
   "cell_type": "code",
   "execution_count": null,
   "id": "dd943af7",
   "metadata": {},
   "outputs": [],
   "source": [
    "from PIL import ImageEnhance"
   ]
  },
  {
   "cell_type": "code",
   "execution_count": null,
   "id": "255712bc",
   "metadata": {},
   "outputs": [],
   "source": [
    "enhancer = ImageEnhance.Brightness(image)\n",
    "images = []"
   ]
  },
  {
   "cell_type": "code",
   "execution_count": null,
   "id": "5e5e21e2",
   "metadata": {},
   "outputs": [],
   "source": [
    "for i in range (0, 10):\n",
    "    images.append(enhancer.enhance(i/10))\n",
    "print(images)"
   ]
  },
  {
   "cell_type": "code",
   "execution_count": null,
   "id": "c63bf30a",
   "metadata": {},
   "outputs": [],
   "source": [
    "help(PIL.Image.new)"
   ]
  },
  {
   "cell_type": "code",
   "execution_count": null,
   "id": "1d3a3ab1",
   "metadata": {},
   "outputs": [],
   "source": [
    "first_image = images[0]"
   ]
  },
  {
   "cell_type": "code",
   "execution_count": null,
   "id": "2f1201a7",
   "metadata": {},
   "outputs": [],
   "source": [
    "from PIL import Image"
   ]
  },
  {
   "cell_type": "code",
   "execution_count": null,
   "id": "bc4ec8a2",
   "metadata": {},
   "outputs": [],
   "source": [
    "contact_sheet = PIL.Image.new(first_image.mode, (first_image.width, 4 * first_image.height))"
   ]
  },
  {
   "cell_type": "code",
   "execution_count": null,
   "id": "43c6eaa0",
   "metadata": {},
   "outputs": [],
   "source": [
    "current_location = 0"
   ]
  },
  {
   "cell_type": "code",
   "execution_count": null,
   "id": "cf35cae5",
   "metadata": {},
   "outputs": [],
   "source": [
    "for img in images:\n",
    "    contact_sheet.paste(img, (0, current_location))\n",
    "    current_location = current_location + 2000"
   ]
  },
  {
   "cell_type": "code",
   "execution_count": null,
   "id": "85a36913",
   "metadata": {},
   "outputs": [],
   "source": [
    "contact_sheet = contact_sheet.resize((500, 500))"
   ]
  },
  {
   "cell_type": "code",
   "execution_count": null,
   "id": "b2d98416",
   "metadata": {},
   "outputs": [],
   "source": [
    "display(contact_sheet)"
   ]
  },
  {
   "cell_type": "code",
   "execution_count": null,
   "id": "ed471b72",
   "metadata": {},
   "outputs": [],
   "source": [
    "contact_sheet = PIL.Image.new(first_image.mode, (first_image.width * 3, first_image.height * 3))"
   ]
  },
  {
   "cell_type": "code",
   "execution_count": null,
   "id": "32d7d44a",
   "metadata": {},
   "outputs": [],
   "source": [
    "x = 0\n",
    "y = 0"
   ]
  },
  {
   "cell_type": "code",
   "execution_count": null,
   "id": "2b40072b",
   "metadata": {},
   "outputs": [],
   "source": [
    "for img in images[1:]:\n",
    "    contact_sheet.paste(img, (x, y))\n",
    "    if x + first_image.width == contact_sheet.width:\n",
    "        x = 0\n",
    "        y = y + first_image.height\n",
    "    else:\n",
    "        x = x + first_image.width"
   ]
  },
  {
   "cell_type": "code",
   "execution_count": null,
   "id": "007eceed",
   "metadata": {},
   "outputs": [],
   "source": [
    "contact_sheet = contact_sheet.resize((int(contact_sheet.width / 2), int(contact_sheet.height / 2)))"
   ]
  },
  {
   "cell_type": "code",
   "execution_count": null,
   "id": "8ec7a01c",
   "metadata": {},
   "outputs": [],
   "source": [
    "display(contact_sheet)"
   ]
  },
  {
   "cell_type": "markdown",
   "id": "09b2369f",
   "metadata": {},
   "source": [
    "Well, that's been a tour of our first external API, the Python Imaging Library, or pillow module. In this series of lectures you've learned how to read and write images, manipulat them with pillow, and explore the functionality of third party APIs using features of Python like dir(), help(), and getmro(). You've also been introduced to the console, and how python stores these libraries on the computer. While for this course all of the libraries are included for you in the Coursera system, and you won't need to install your own, it's good to get a the idea of how this work in case you wanted to set this up on your own."
   ]
  },
  {
   "cell_type": "markdown",
   "id": "be59e216",
   "metadata": {},
   "source": [
    "Finally, while you can explore PILLOW from within python, most good modules also put their documentation up online, and you can read more about PILLOW here: https://pillow.readthedocs.io/en/latest/"
   ]
  },
  {
   "cell_type": "code",
   "execution_count": null,
   "id": "d0095011",
   "metadata": {},
   "outputs": [],
   "source": []
  }
 ],
 "metadata": {
  "kernelspec": {
   "display_name": "Python 3 (ipykernel)",
   "language": "python",
   "name": "python3"
  },
  "language_info": {
   "codemirror_mode": {
    "name": "ipython",
    "version": 3
   },
   "file_extension": ".py",
   "mimetype": "text/x-python",
   "name": "python",
   "nbconvert_exporter": "python",
   "pygments_lexer": "ipython3",
   "version": "3.9.12"
  }
 },
 "nbformat": 4,
 "nbformat_minor": 5
}
